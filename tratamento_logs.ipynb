{
 "cells": [
  {
   "cell_type": "markdown",
   "metadata": {},
   "source": [
    "# Projeto de Técnicas de Programação em Python - Transformação de Logs"
   ]
  },
  {
   "cell_type": "markdown",
   "metadata": {},
   "source": [
    "<div align=\"center\">\n",
    "<img style=\"display: block; margin:auto; width: 50%;\" src=\"assets/banco_log.png\">\n",
    "</div>"
   ]
  },
  {
   "cell_type": "markdown",
   "metadata": {},
   "source": [
    "O projeto tem como premissa trabalhar com logs de servidor web em formato comum Apache. Para isso, foi consultada uma base de dados no kaggle por meio deste [link](https://www.kaggle.com/datasets/eliasdabbas/web-server-access-logs/data). \n",
    "\n",
    "A ideia é extrair os dados de interesse dos logs, transforma-los pelo Numpy e Pandas para depois tirar alguns insights."
   ]
  },
  {
   "cell_type": "markdown",
   "metadata": {},
   "source": [
    "# Indice"
   ]
  },
  {
   "cell_type": "markdown",
   "metadata": {},
   "source": [
    "\n",
    "<div style=\"line-height: 2.0;\">\n",
    "    <div>1. Bibliotecas\n",
    "    </div>\n",
    "    <div>2. Corte do Arquivo\n",
    "    </div>\n",
    "    <div>3. Transformação dos Logs\n",
    "        <div style=\"margin-left: 20px;\">3.1. Extração dos caminhos para futura iteração</div>\n",
    "        <div style=\"margin-left: 20px;\">3.2. Aplicação da função</div>\n",
    "    </div>\n",
    "    <div>4. Conversão para o Numpy\n",
    "        <div style=\"margin-left: 20px;\">4.1. Criação do Numpy Vazio</div>\n",
    "        <div style=\"margin-left: 20px;\">4.2. Alimentação do Numpy</div>    \n",
    "    </div>\n",
    "    <div>5. Dataset com Logs\n",
    "        <div style=\"margin-left: 20px;\">5.1. Criação do Numpy Vazio</div>\n",
    "        <div style=\"margin-left: 20px;\">5.2. Alimentação do Numpy</div>    \n",
    "        <div style=\"margin-left: 20px;\">5.3. Verificação de Bots</div>            \n",
    "    </div>\n",
    "    <div>6. Insights\n",
    "        <div style=\"margin-left: 20px;\">6.1. Quantidade de acessos por Bots</div>\n",
    "        <div style=\"margin-left: 20px;\">6.2. Alimentação do Numpy</div>             \n",
    "    </div>    \n",
    "</div>"
   ]
  },
  {
   "cell_type": "markdown",
   "metadata": {},
   "source": [
    "# 1. Bibliotecas"
   ]
  },
  {
   "cell_type": "code",
   "execution_count": 188,
   "metadata": {},
   "outputs": [],
   "source": [
    "import numpy as np\n",
    "import pandas as pd"
   ]
  },
  {
   "cell_type": "markdown",
   "metadata": {},
   "source": [
    "# 2. Corte do arquivo"
   ]
  },
  {
   "cell_type": "markdown",
   "metadata": {},
   "source": [
    "Como o arquivo original access.log possui 3.8GB, foi preciso selecionar uma quantidade de linhas para trabalhar mais facilmente. Por isso, fizemos a abertura do arquivo, lemos 1000 linhas e salvamos outro log."
   ]
  },
  {
   "cell_type": "markdown",
   "metadata": {},
   "source": [
    "**OBS**: Essa operação foi feita apenas para facilitar o processo. O arquivo original se encontra no site deste [link](https://www.kaggle.com/datasets/eliasdabbas/web-server-access-logs/data)."
   ]
  },
  {
   "cell_type": "code",
   "execution_count": 225,
   "metadata": {},
   "outputs": [],
   "source": [
    "# with open(\"./../projeto/logs/access.log\", \"r\") as file:\n",
    "#     linhas_lidas = file.readlines()[:10001]"
   ]
  },
  {
   "cell_type": "code",
   "execution_count": 226,
   "metadata": {},
   "outputs": [],
   "source": [
    "# with open(\"logs/access.log\", \"w\") as file:\n",
    "#     file.writelines(linhas_lidas)"
   ]
  },
  {
   "cell_type": "markdown",
   "metadata": {},
   "source": [
    "# 3. Tranformação dos Logs"
   ]
  },
  {
   "cell_type": "markdown",
   "metadata": {},
   "source": [
    "## 3.1 Compreensão da estrutura do Log"
   ]
  },
  {
   "cell_type": "markdown",
   "metadata": {},
   "source": [
    "Primeiro, mostrarei como o log está estruturado."
   ]
  },
  {
   "cell_type": "code",
   "execution_count": 227,
   "metadata": {},
   "outputs": [
    {
     "name": "stdout",
     "output_type": "stream",
     "text": [
      "54.36.149.41 - - [22/Jan/2019:03:56:14 +0330] \"GET /filter/27|13%20%D9%85%DA%AF%D8%A7%D9%BE%DB%8C%DA%A9%D8%B3%D9%84,27|%DA%A9%D9%85%D8%AA%D8%B1%20%D8%A7%D8%B2%205%20%D9%85%DA%AF%D8%A7%D9%BE%DB%8C%DA%A9%D8%B3%D9%84,p53 HTTP/1.1\" 200 30577 \"-\" \"Mozilla/5.0 (compatible; AhrefsBot/6.1; +http://ahrefs.com/robot/)\" \"-\"\n",
      "\n"
     ]
    }
   ],
   "source": [
    "with open(\"logs/access.log\", \"r\") as file:\n",
    "    teste = file.readline()\n",
    "    print(teste)"
   ]
  },
  {
   "cell_type": "markdown",
   "metadata": {},
   "source": [
    "Em resumo, essas são as informações de interesse no geral:\n",
    "\n",
    "- IP do Cliente: Endereço IP do cliente solicitante\n",
    "- Data: Data da solicitação \n",
    "- Hora: Hora da Solicitação\n",
    "- Método HTTP: Qual método foi utilizado (GET, POST...)\n",
    "- Pasta/Arquivo : Pasta e arquivo que foi acessado, ou se foi feito um Search\n",
    "- Protocolo HTTP : Qual protocolo HTTP foi utilizado\n",
    "- Código de Resposta: Indicação se a solicitação foi bem-sucedida ou não\n",
    "- Tamanho da Resposta: Quantos bytes foram usados para aquisição da resposta\n",
    "- User-Agent: Informações do navegador ou bot"
   ]
  },
  {
   "cell_type": "markdown",
   "metadata": {},
   "source": [
    "## 3.2. Transformação dos logs"
   ]
  },
  {
   "cell_type": "markdown",
   "metadata": {},
   "source": [
    "Primeiro, é preciso abrir o arquivo access.log:"
   ]
  },
  {
   "cell_type": "code",
   "execution_count": 266,
   "metadata": {},
   "outputs": [],
   "source": [
    "with open(\"logs/access.log\", \"r\") as file:\n",
    "    arquivo = file.readlines()"
   ]
  },
  {
   "cell_type": "markdown",
   "metadata": {},
   "source": [
    "Depois, é preciso extrair linha a linha do arquivo os valores das colunas:"
   ]
  },
  {
   "cell_type": "code",
   "execution_count": 273,
   "metadata": {},
   "outputs": [],
   "source": [
    "# Definição do documento vazio que será preenchido com listas de itens a cada linha\n",
    "documento = []\n",
    "\n",
    "for linha in arquivo:\n",
    "\n",
    "    # Remoção de todos os caracteres desnecessários para a leitura\n",
    "    for e in [\"[\", \"]\", \"(\", \")\", \"{\", \"}\", \";\", '\"', \",\"]:\n",
    "        linha = linha.replace(e,\"\")\n",
    "\n",
    "    # Separação por espaço ara selecionar como lista posteriormente\n",
    "    i = linha.split(\" \")\n",
    "    \n",
    "    ip = i[0]\n",
    "    data = i[3][:11]\n",
    "    hora = i[3][12:]\n",
    "    metodo = i[5]\n",
    "\n",
    "    # A pasta tem caracteristicas diferentes dependendo do log, por isso esse tratamento\n",
    "    pasta = i[6].split(\"/\")\n",
    "    try:\n",
    "        if pasta[1] == \"m\":\n",
    "            pasta = pasta[2]\n",
    "        else:\n",
    "            pasta = pasta[1]\n",
    "    except Exception:\n",
    "            pasta = pasta[1]         \n",
    "   \n",
    "    if \"?\" in pasta:\n",
    "        pasta = pasta.split(\"?\")[0]\n",
    "\n",
    "\n",
    "    http = i[7]\n",
    "    resposta = i[8]\n",
    "    tamanho_bytes = i[9]\n",
    "\n",
    "    # Também há termos diferentes para o acesso, dependendo se for bot ou por onde está sendo o acesso\n",
    "    if len(i) > 14:\n",
    "        if i[12] == \"compatible\":\n",
    "            user_agent = i[13]\n",
    "        else:\n",
    "            user_agent = f\"{i[12]}-{i[13]}/{i[14]}\"\n",
    "    else:\n",
    "        user_agent = {i[11]}\n",
    "\n",
    "    # Transformação de todas as variáveis em um array para incluir no documento\n",
    "    registro = [ip,data,hora,metodo,pasta,http,resposta,tamanho_bytes, user_agent]\n",
    "    documento.append(registro) "
   ]
  },
  {
   "cell_type": "markdown",
   "metadata": {},
   "source": [
    "Cada log ficará assim no fim desse processo:"
   ]
  },
  {
   "cell_type": "code",
   "execution_count": 274,
   "metadata": {},
   "outputs": [
    {
     "data": {
      "text/plain": [
       "['31.56.96.51',\n",
       " '22/Jan/2019',\n",
       " '03:56:16',\n",
       " 'GET',\n",
       " 'image',\n",
       " 'HTTP/1.1',\n",
       " '200',\n",
       " '5379',\n",
       " 'Linux-Android/6.0']"
      ]
     },
     "execution_count": 274,
     "metadata": {},
     "output_type": "execute_result"
    }
   ],
   "source": [
    "documento[2]"
   ]
  },
  {
   "cell_type": "markdown",
   "metadata": {},
   "source": [
    "# 4. Conversão para Numpy"
   ]
  },
  {
   "cell_type": "markdown",
   "metadata": {},
   "source": [
    "## 4.1. Criação do Numpy Vazio"
   ]
  },
  {
   "cell_type": "markdown",
   "metadata": {},
   "source": [
    "Para criação, foi utilizado o Numpy. O tipo mais utilizado foi Unicode, variando o tanto de caracteres necessários."
   ]
  },
  {
   "cell_type": "code",
   "execution_count": 275,
   "metadata": {},
   "outputs": [],
   "source": [
    "log_data_estruturado = np.empty(len(documento), dtype=[('id', 'U50'), ('data', 'U30'),('hora', 'U30'),('metodo', 'U20'), ('pasta', 'U50'),('http', 'U10'), ('resposta', 'U10'),('tamanho_bytes', int), ('user_agent', 'U100')])"
   ]
  },
  {
   "cell_type": "markdown",
   "metadata": {},
   "source": [
    "## 4.2. Alimentação do Numpy "
   ]
  },
  {
   "cell_type": "code",
   "execution_count": 276,
   "metadata": {},
   "outputs": [],
   "source": [
    "for i, linha in enumerate(documento):\n",
    "    ip,data,hora,metodo,pasta,http,resposta,tamanho_bytes, user_agent = linha\n",
    "    log_data_estruturado[i] = (ip,data,hora,metodo,pasta,http,resposta,tamanho_bytes,user_agent)"
   ]
  },
  {
   "cell_type": "code",
   "execution_count": 277,
   "metadata": {},
   "outputs": [
    {
     "data": {
      "text/plain": [
       "array([('54.36.149.41', '22/Jan/2019', '03:56:14', 'GET', 'filter', 'HTTP/1.1', '200', 30577, 'AhrefsBot/6.1'),\n",
       "       ('31.56.96.51', '22/Jan/2019', '03:56:16', 'GET', 'image', 'HTTP/1.1', '200',  5667, 'Linux-Android/6.0'),\n",
       "       ('31.56.96.51', '22/Jan/2019', '03:56:16', 'GET', 'image', 'HTTP/1.1', '200',  5379, 'Linux-Android/6.0'),\n",
       "       ('40.77.167.129', '22/Jan/2019', '03:56:17', 'GET', 'image', 'HTTP/1.1', '200',  1696, 'bingbot/2.0'),\n",
       "       ('91.99.72.15', '22/Jan/2019', '03:56:17', 'GET', 'product', 'HTTP/1.1', '200', 41483, 'Windows-NT/6.2'),\n",
       "       ('40.77.167.129', '22/Jan/2019', '03:56:17', 'GET', 'image', 'HTTP/1.1', '200',  2654, 'bingbot/2.0'),\n",
       "       ('40.77.167.129', '22/Jan/2019', '03:56:18', 'GET', 'image', 'HTTP/1.1', '200',  3688, 'bingbot/2.0'),\n",
       "       ('40.77.167.129', '22/Jan/2019', '03:56:18', 'GET', 'image', 'HTTP/1.1', '200', 14776, 'bingbot/2.0'),\n",
       "       ('66.249.66.194', '22/Jan/2019', '03:56:18', 'GET', 'filter', 'HTTP/1.1', '200', 34277, 'Googlebot/2.1'),\n",
       "       ('40.77.167.129', '22/Jan/2019', '03:56:18', 'GET', 'image', 'HTTP/1.1', '200',  1695, 'bingbot/2.0')],\n",
       "      dtype=[('id', '<U50'), ('data', '<U30'), ('hora', '<U30'), ('metodo', '<U20'), ('pasta', '<U50'), ('http', '<U10'), ('resposta', '<U10'), ('tamanho_bytes', '<i4'), ('user_agent', '<U100')])"
      ]
     },
     "execution_count": 277,
     "metadata": {},
     "output_type": "execute_result"
    }
   ],
   "source": [
    "log_data_estruturado[:10]"
   ]
  },
  {
   "cell_type": "markdown",
   "metadata": {},
   "source": [
    "# 5. Dataset com os Logs"
   ]
  },
  {
   "cell_type": "markdown",
   "metadata": {},
   "source": [
    "## 5.1. Importando o Dataframe"
   ]
  },
  {
   "cell_type": "code",
   "execution_count": 278,
   "metadata": {},
   "outputs": [
    {
     "name": "stdout",
     "output_type": "stream",
     "text": [
      "<class 'pandas.core.frame.DataFrame'>\n",
      "RangeIndex: 10001 entries, 0 to 10000\n",
      "Data columns (total 9 columns):\n",
      " #   Column         Non-Null Count  Dtype \n",
      "---  ------         --------------  ----- \n",
      " 0   id             10001 non-null  object\n",
      " 1   data           10001 non-null  object\n",
      " 2   hora           10001 non-null  object\n",
      " 3   metodo         10001 non-null  object\n",
      " 4   pasta          10001 non-null  object\n",
      " 5   http           10001 non-null  object\n",
      " 6   resposta       10001 non-null  object\n",
      " 7   tamanho_bytes  10001 non-null  int32 \n",
      " 8   user_agent     10001 non-null  object\n",
      "dtypes: int32(1), object(8)\n",
      "memory usage: 664.3+ KB\n"
     ]
    }
   ],
   "source": [
    "log_df = pd.DataFrame(data=log_data_estruturado)\n",
    "log_df.info()"
   ]
  },
  {
   "cell_type": "markdown",
   "metadata": {},
   "source": [
    "## 5.2. Conversão para Datetime"
   ]
  },
  {
   "cell_type": "code",
   "execution_count": 279,
   "metadata": {},
   "outputs": [],
   "source": [
    "log_df[\"data\"] = pd.to_datetime(log_df[\"data\"], format=\"%d/%b/%Y\")\n",
    "log_df[\"hora\"] = pd.to_datetime(log_df[\"hora\"], format=\"%H:%M:%S\").dt.time"
   ]
  },
  {
   "cell_type": "code",
   "execution_count": 280,
   "metadata": {},
   "outputs": [
    {
     "name": "stdout",
     "output_type": "stream",
     "text": [
      "<class 'pandas.core.frame.DataFrame'>\n",
      "RangeIndex: 10001 entries, 0 to 10000\n",
      "Data columns (total 9 columns):\n",
      " #   Column         Non-Null Count  Dtype         \n",
      "---  ------         --------------  -----         \n",
      " 0   id             10001 non-null  object        \n",
      " 1   data           10001 non-null  datetime64[ns]\n",
      " 2   hora           10001 non-null  object        \n",
      " 3   metodo         10001 non-null  object        \n",
      " 4   pasta          10001 non-null  object        \n",
      " 5   http           10001 non-null  object        \n",
      " 6   resposta       10001 non-null  object        \n",
      " 7   tamanho_bytes  10001 non-null  int32         \n",
      " 8   user_agent     10001 non-null  object        \n",
      "dtypes: datetime64[ns](1), int32(1), object(7)\n",
      "memory usage: 664.3+ KB\n"
     ]
    }
   ],
   "source": [
    "log_df.info()"
   ]
  },
  {
   "cell_type": "code",
   "execution_count": 281,
   "metadata": {},
   "outputs": [
    {
     "data": {
      "text/html": [
       "<div>\n",
       "<style scoped>\n",
       "    .dataframe tbody tr th:only-of-type {\n",
       "        vertical-align: middle;\n",
       "    }\n",
       "\n",
       "    .dataframe tbody tr th {\n",
       "        vertical-align: top;\n",
       "    }\n",
       "\n",
       "    .dataframe thead th {\n",
       "        text-align: right;\n",
       "    }\n",
       "</style>\n",
       "<table border=\"1\" class=\"dataframe\">\n",
       "  <thead>\n",
       "    <tr style=\"text-align: right;\">\n",
       "      <th></th>\n",
       "      <th>id</th>\n",
       "      <th>data</th>\n",
       "      <th>hora</th>\n",
       "      <th>metodo</th>\n",
       "      <th>pasta</th>\n",
       "      <th>http</th>\n",
       "      <th>resposta</th>\n",
       "      <th>tamanho_bytes</th>\n",
       "      <th>user_agent</th>\n",
       "    </tr>\n",
       "  </thead>\n",
       "  <tbody>\n",
       "    <tr>\n",
       "      <th>0</th>\n",
       "      <td>54.36.149.41</td>\n",
       "      <td>2019-01-22</td>\n",
       "      <td>03:56:14</td>\n",
       "      <td>GET</td>\n",
       "      <td>filter</td>\n",
       "      <td>HTTP/1.1</td>\n",
       "      <td>200</td>\n",
       "      <td>30577</td>\n",
       "      <td>AhrefsBot/6.1</td>\n",
       "    </tr>\n",
       "    <tr>\n",
       "      <th>1</th>\n",
       "      <td>31.56.96.51</td>\n",
       "      <td>2019-01-22</td>\n",
       "      <td>03:56:16</td>\n",
       "      <td>GET</td>\n",
       "      <td>image</td>\n",
       "      <td>HTTP/1.1</td>\n",
       "      <td>200</td>\n",
       "      <td>5667</td>\n",
       "      <td>Linux-Android/6.0</td>\n",
       "    </tr>\n",
       "    <tr>\n",
       "      <th>2</th>\n",
       "      <td>31.56.96.51</td>\n",
       "      <td>2019-01-22</td>\n",
       "      <td>03:56:16</td>\n",
       "      <td>GET</td>\n",
       "      <td>image</td>\n",
       "      <td>HTTP/1.1</td>\n",
       "      <td>200</td>\n",
       "      <td>5379</td>\n",
       "      <td>Linux-Android/6.0</td>\n",
       "    </tr>\n",
       "    <tr>\n",
       "      <th>3</th>\n",
       "      <td>40.77.167.129</td>\n",
       "      <td>2019-01-22</td>\n",
       "      <td>03:56:17</td>\n",
       "      <td>GET</td>\n",
       "      <td>image</td>\n",
       "      <td>HTTP/1.1</td>\n",
       "      <td>200</td>\n",
       "      <td>1696</td>\n",
       "      <td>bingbot/2.0</td>\n",
       "    </tr>\n",
       "    <tr>\n",
       "      <th>4</th>\n",
       "      <td>91.99.72.15</td>\n",
       "      <td>2019-01-22</td>\n",
       "      <td>03:56:17</td>\n",
       "      <td>GET</td>\n",
       "      <td>product</td>\n",
       "      <td>HTTP/1.1</td>\n",
       "      <td>200</td>\n",
       "      <td>41483</td>\n",
       "      <td>Windows-NT/6.2</td>\n",
       "    </tr>\n",
       "    <tr>\n",
       "      <th>...</th>\n",
       "      <td>...</td>\n",
       "      <td>...</td>\n",
       "      <td>...</td>\n",
       "      <td>...</td>\n",
       "      <td>...</td>\n",
       "      <td>...</td>\n",
       "      <td>...</td>\n",
       "      <td>...</td>\n",
       "      <td>...</td>\n",
       "    </tr>\n",
       "    <tr>\n",
       "      <th>9996</th>\n",
       "      <td>192.15.6.66</td>\n",
       "      <td>2019-01-22</td>\n",
       "      <td>04:36:57</td>\n",
       "      <td>GET</td>\n",
       "      <td>product</td>\n",
       "      <td>HTTP/1.1</td>\n",
       "      <td>302</td>\n",
       "      <td>0</td>\n",
       "      <td>Linux-Android/8.0.0</td>\n",
       "    </tr>\n",
       "    <tr>\n",
       "      <th>9997</th>\n",
       "      <td>37.129.232.66</td>\n",
       "      <td>2019-01-22</td>\n",
       "      <td>04:36:57</td>\n",
       "      <td>GET</td>\n",
       "      <td>static</td>\n",
       "      <td>HTTP/1.1</td>\n",
       "      <td>200</td>\n",
       "      <td>5807</td>\n",
       "      <td>Linux-Android/7.0</td>\n",
       "    </tr>\n",
       "    <tr>\n",
       "      <th>9998</th>\n",
       "      <td>37.129.232.66</td>\n",
       "      <td>2019-01-22</td>\n",
       "      <td>04:36:57</td>\n",
       "      <td>GET</td>\n",
       "      <td>static</td>\n",
       "      <td>HTTP/1.1</td>\n",
       "      <td>200</td>\n",
       "      <td>7356</td>\n",
       "      <td>Linux-Android/7.0</td>\n",
       "    </tr>\n",
       "    <tr>\n",
       "      <th>9999</th>\n",
       "      <td>37.129.232.66</td>\n",
       "      <td>2019-01-22</td>\n",
       "      <td>04:36:57</td>\n",
       "      <td>GET</td>\n",
       "      <td>static</td>\n",
       "      <td>HTTP/1.1</td>\n",
       "      <td>200</td>\n",
       "      <td>6496</td>\n",
       "      <td>Linux-Android/7.0</td>\n",
       "    </tr>\n",
       "    <tr>\n",
       "      <th>10000</th>\n",
       "      <td>37.129.232.66</td>\n",
       "      <td>2019-01-22</td>\n",
       "      <td>04:36:57</td>\n",
       "      <td>GET</td>\n",
       "      <td>static</td>\n",
       "      <td>HTTP/1.1</td>\n",
       "      <td>200</td>\n",
       "      <td>6454</td>\n",
       "      <td>Linux-Android/7.0</td>\n",
       "    </tr>\n",
       "  </tbody>\n",
       "</table>\n",
       "<p>10001 rows × 9 columns</p>\n",
       "</div>"
      ],
      "text/plain": [
       "                  id       data      hora metodo    pasta      http resposta  \\\n",
       "0       54.36.149.41 2019-01-22  03:56:14    GET   filter  HTTP/1.1      200   \n",
       "1        31.56.96.51 2019-01-22  03:56:16    GET    image  HTTP/1.1      200   \n",
       "2        31.56.96.51 2019-01-22  03:56:16    GET    image  HTTP/1.1      200   \n",
       "3      40.77.167.129 2019-01-22  03:56:17    GET    image  HTTP/1.1      200   \n",
       "4        91.99.72.15 2019-01-22  03:56:17    GET  product  HTTP/1.1      200   \n",
       "...              ...        ...       ...    ...      ...       ...      ...   \n",
       "9996     192.15.6.66 2019-01-22  04:36:57    GET  product  HTTP/1.1      302   \n",
       "9997   37.129.232.66 2019-01-22  04:36:57    GET   static  HTTP/1.1      200   \n",
       "9998   37.129.232.66 2019-01-22  04:36:57    GET   static  HTTP/1.1      200   \n",
       "9999   37.129.232.66 2019-01-22  04:36:57    GET   static  HTTP/1.1      200   \n",
       "10000  37.129.232.66 2019-01-22  04:36:57    GET   static  HTTP/1.1      200   \n",
       "\n",
       "       tamanho_bytes           user_agent  \n",
       "0              30577        AhrefsBot/6.1  \n",
       "1               5667    Linux-Android/6.0  \n",
       "2               5379    Linux-Android/6.0  \n",
       "3               1696          bingbot/2.0  \n",
       "4              41483       Windows-NT/6.2  \n",
       "...              ...                  ...  \n",
       "9996               0  Linux-Android/8.0.0  \n",
       "9997            5807    Linux-Android/7.0  \n",
       "9998            7356    Linux-Android/7.0  \n",
       "9999            6496    Linux-Android/7.0  \n",
       "10000           6454    Linux-Android/7.0  \n",
       "\n",
       "[10001 rows x 9 columns]"
      ]
     },
     "execution_count": 281,
     "metadata": {},
     "output_type": "execute_result"
    }
   ],
   "source": [
    "log_df"
   ]
  },
  {
   "cell_type": "markdown",
   "metadata": {},
   "source": [
    "## 5.3. Verificação de Bots"
   ]
  },
  {
   "cell_type": "markdown",
   "metadata": {},
   "source": [
    "Para facilitar a pesquisa de bots, criaremos uma coluna \"bot?\" e atribuir True ou False. Para isso, consideraremos se há a palavra bot no user_agent:"
   ]
  },
  {
   "cell_type": "code",
   "execution_count": 282,
   "metadata": {},
   "outputs": [],
   "source": [
    "log_df[\"eh_bot\"] = log_df[\"user_agent\"] .apply(lambda x: True if \"bot\" in x else False)"
   ]
  },
  {
   "cell_type": "code",
   "execution_count": 283,
   "metadata": {},
   "outputs": [
    {
     "data": {
      "text/html": [
       "<div>\n",
       "<style scoped>\n",
       "    .dataframe tbody tr th:only-of-type {\n",
       "        vertical-align: middle;\n",
       "    }\n",
       "\n",
       "    .dataframe tbody tr th {\n",
       "        vertical-align: top;\n",
       "    }\n",
       "\n",
       "    .dataframe thead th {\n",
       "        text-align: right;\n",
       "    }\n",
       "</style>\n",
       "<table border=\"1\" class=\"dataframe\">\n",
       "  <thead>\n",
       "    <tr style=\"text-align: right;\">\n",
       "      <th></th>\n",
       "      <th>id</th>\n",
       "      <th>data</th>\n",
       "      <th>hora</th>\n",
       "      <th>metodo</th>\n",
       "      <th>pasta</th>\n",
       "      <th>http</th>\n",
       "      <th>resposta</th>\n",
       "      <th>tamanho_bytes</th>\n",
       "      <th>user_agent</th>\n",
       "      <th>eh_bot</th>\n",
       "    </tr>\n",
       "  </thead>\n",
       "  <tbody>\n",
       "    <tr>\n",
       "      <th>0</th>\n",
       "      <td>54.36.149.41</td>\n",
       "      <td>2019-01-22</td>\n",
       "      <td>03:56:14</td>\n",
       "      <td>GET</td>\n",
       "      <td>filter</td>\n",
       "      <td>HTTP/1.1</td>\n",
       "      <td>200</td>\n",
       "      <td>30577</td>\n",
       "      <td>AhrefsBot/6.1</td>\n",
       "      <td>False</td>\n",
       "    </tr>\n",
       "    <tr>\n",
       "      <th>1</th>\n",
       "      <td>31.56.96.51</td>\n",
       "      <td>2019-01-22</td>\n",
       "      <td>03:56:16</td>\n",
       "      <td>GET</td>\n",
       "      <td>image</td>\n",
       "      <td>HTTP/1.1</td>\n",
       "      <td>200</td>\n",
       "      <td>5667</td>\n",
       "      <td>Linux-Android/6.0</td>\n",
       "      <td>False</td>\n",
       "    </tr>\n",
       "    <tr>\n",
       "      <th>2</th>\n",
       "      <td>31.56.96.51</td>\n",
       "      <td>2019-01-22</td>\n",
       "      <td>03:56:16</td>\n",
       "      <td>GET</td>\n",
       "      <td>image</td>\n",
       "      <td>HTTP/1.1</td>\n",
       "      <td>200</td>\n",
       "      <td>5379</td>\n",
       "      <td>Linux-Android/6.0</td>\n",
       "      <td>False</td>\n",
       "    </tr>\n",
       "    <tr>\n",
       "      <th>3</th>\n",
       "      <td>40.77.167.129</td>\n",
       "      <td>2019-01-22</td>\n",
       "      <td>03:56:17</td>\n",
       "      <td>GET</td>\n",
       "      <td>image</td>\n",
       "      <td>HTTP/1.1</td>\n",
       "      <td>200</td>\n",
       "      <td>1696</td>\n",
       "      <td>bingbot/2.0</td>\n",
       "      <td>True</td>\n",
       "    </tr>\n",
       "    <tr>\n",
       "      <th>4</th>\n",
       "      <td>91.99.72.15</td>\n",
       "      <td>2019-01-22</td>\n",
       "      <td>03:56:17</td>\n",
       "      <td>GET</td>\n",
       "      <td>product</td>\n",
       "      <td>HTTP/1.1</td>\n",
       "      <td>200</td>\n",
       "      <td>41483</td>\n",
       "      <td>Windows-NT/6.2</td>\n",
       "      <td>False</td>\n",
       "    </tr>\n",
       "    <tr>\n",
       "      <th>...</th>\n",
       "      <td>...</td>\n",
       "      <td>...</td>\n",
       "      <td>...</td>\n",
       "      <td>...</td>\n",
       "      <td>...</td>\n",
       "      <td>...</td>\n",
       "      <td>...</td>\n",
       "      <td>...</td>\n",
       "      <td>...</td>\n",
       "      <td>...</td>\n",
       "    </tr>\n",
       "    <tr>\n",
       "      <th>9996</th>\n",
       "      <td>192.15.6.66</td>\n",
       "      <td>2019-01-22</td>\n",
       "      <td>04:36:57</td>\n",
       "      <td>GET</td>\n",
       "      <td>product</td>\n",
       "      <td>HTTP/1.1</td>\n",
       "      <td>302</td>\n",
       "      <td>0</td>\n",
       "      <td>Linux-Android/8.0.0</td>\n",
       "      <td>False</td>\n",
       "    </tr>\n",
       "    <tr>\n",
       "      <th>9997</th>\n",
       "      <td>37.129.232.66</td>\n",
       "      <td>2019-01-22</td>\n",
       "      <td>04:36:57</td>\n",
       "      <td>GET</td>\n",
       "      <td>static</td>\n",
       "      <td>HTTP/1.1</td>\n",
       "      <td>200</td>\n",
       "      <td>5807</td>\n",
       "      <td>Linux-Android/7.0</td>\n",
       "      <td>False</td>\n",
       "    </tr>\n",
       "    <tr>\n",
       "      <th>9998</th>\n",
       "      <td>37.129.232.66</td>\n",
       "      <td>2019-01-22</td>\n",
       "      <td>04:36:57</td>\n",
       "      <td>GET</td>\n",
       "      <td>static</td>\n",
       "      <td>HTTP/1.1</td>\n",
       "      <td>200</td>\n",
       "      <td>7356</td>\n",
       "      <td>Linux-Android/7.0</td>\n",
       "      <td>False</td>\n",
       "    </tr>\n",
       "    <tr>\n",
       "      <th>9999</th>\n",
       "      <td>37.129.232.66</td>\n",
       "      <td>2019-01-22</td>\n",
       "      <td>04:36:57</td>\n",
       "      <td>GET</td>\n",
       "      <td>static</td>\n",
       "      <td>HTTP/1.1</td>\n",
       "      <td>200</td>\n",
       "      <td>6496</td>\n",
       "      <td>Linux-Android/7.0</td>\n",
       "      <td>False</td>\n",
       "    </tr>\n",
       "    <tr>\n",
       "      <th>10000</th>\n",
       "      <td>37.129.232.66</td>\n",
       "      <td>2019-01-22</td>\n",
       "      <td>04:36:57</td>\n",
       "      <td>GET</td>\n",
       "      <td>static</td>\n",
       "      <td>HTTP/1.1</td>\n",
       "      <td>200</td>\n",
       "      <td>6454</td>\n",
       "      <td>Linux-Android/7.0</td>\n",
       "      <td>False</td>\n",
       "    </tr>\n",
       "  </tbody>\n",
       "</table>\n",
       "<p>10001 rows × 10 columns</p>\n",
       "</div>"
      ],
      "text/plain": [
       "                  id       data      hora metodo    pasta      http resposta  \\\n",
       "0       54.36.149.41 2019-01-22  03:56:14    GET   filter  HTTP/1.1      200   \n",
       "1        31.56.96.51 2019-01-22  03:56:16    GET    image  HTTP/1.1      200   \n",
       "2        31.56.96.51 2019-01-22  03:56:16    GET    image  HTTP/1.1      200   \n",
       "3      40.77.167.129 2019-01-22  03:56:17    GET    image  HTTP/1.1      200   \n",
       "4        91.99.72.15 2019-01-22  03:56:17    GET  product  HTTP/1.1      200   \n",
       "...              ...        ...       ...    ...      ...       ...      ...   \n",
       "9996     192.15.6.66 2019-01-22  04:36:57    GET  product  HTTP/1.1      302   \n",
       "9997   37.129.232.66 2019-01-22  04:36:57    GET   static  HTTP/1.1      200   \n",
       "9998   37.129.232.66 2019-01-22  04:36:57    GET   static  HTTP/1.1      200   \n",
       "9999   37.129.232.66 2019-01-22  04:36:57    GET   static  HTTP/1.1      200   \n",
       "10000  37.129.232.66 2019-01-22  04:36:57    GET   static  HTTP/1.1      200   \n",
       "\n",
       "       tamanho_bytes           user_agent  eh_bot  \n",
       "0              30577        AhrefsBot/6.1   False  \n",
       "1               5667    Linux-Android/6.0   False  \n",
       "2               5379    Linux-Android/6.0   False  \n",
       "3               1696          bingbot/2.0    True  \n",
       "4              41483       Windows-NT/6.2   False  \n",
       "...              ...                  ...     ...  \n",
       "9996               0  Linux-Android/8.0.0   False  \n",
       "9997            5807    Linux-Android/7.0   False  \n",
       "9998            7356    Linux-Android/7.0   False  \n",
       "9999            6496    Linux-Android/7.0   False  \n",
       "10000           6454    Linux-Android/7.0   False  \n",
       "\n",
       "[10001 rows x 10 columns]"
      ]
     },
     "execution_count": 283,
     "metadata": {},
     "output_type": "execute_result"
    }
   ],
   "source": [
    "log_df"
   ]
  },
  {
   "cell_type": "markdown",
   "metadata": {},
   "source": [
    "# 6. Insights"
   ]
  },
  {
   "cell_type": "markdown",
   "metadata": {},
   "source": [
    "## 6.1. Quantidade de acessos por Bots"
   ]
  },
  {
   "cell_type": "code",
   "execution_count": 284,
   "metadata": {},
   "outputs": [
    {
     "data": {
      "text/plain": [
       "2470"
      ]
     },
     "execution_count": 284,
     "metadata": {},
     "output_type": "execute_result"
    }
   ],
   "source": [
    "verificacao_bot_df = log_df.groupby(\"eh_bot\").size()\n",
    "verificacao_bot_df[True]"
   ]
  },
  {
   "cell_type": "code",
   "execution_count": 285,
   "metadata": {},
   "outputs": [
    {
     "name": "stdout",
     "output_type": "stream",
     "text": [
      "A quantidade de logs referentes a bots é de 2470, 24.7% do total de acessos\n"
     ]
    }
   ],
   "source": [
    "porcentagem_bots = verificacao_bot_df[True]/log_df[\"eh_bot\"].count()\n",
    "\n",
    "print(f\"A quantidade de logs referentes a bots é de {verificacao_bot_df[True]}, {round(porcentagem_bots*100,2)}% do total de acessos\")"
   ]
  },
  {
   "cell_type": "markdown",
   "metadata": {},
   "source": [
    "## 6.2. Arquivos Mais Acessados"
   ]
  },
  {
   "cell_type": "code",
   "execution_count": 286,
   "metadata": {},
   "outputs": [
    {
     "data": {
      "text/plain": [
       "pasta\n",
       "image      3378\n",
       "filter     3331\n",
       "product    1002\n",
       "static      882\n",
       "browse      249\n",
       "dtype: int64"
      ]
     },
     "execution_count": 286,
     "metadata": {},
     "output_type": "execute_result"
    }
   ],
   "source": [
    "arquivos_mais_acessados = log_df.groupby(\"pasta\").size().sort_values(ascending=False)\n",
    "arquivos_mais_acessados.head()"
   ]
  }
 ],
 "metadata": {
  "kernelspec": {
   "display_name": ".venv",
   "language": "python",
   "name": "python3"
  },
  "language_info": {
   "codemirror_mode": {
    "name": "ipython",
    "version": 3
   },
   "file_extension": ".py",
   "mimetype": "text/x-python",
   "name": "python",
   "nbconvert_exporter": "python",
   "pygments_lexer": "ipython3",
   "version": "3.12.2"
  }
 },
 "nbformat": 4,
 "nbformat_minor": 2
}
