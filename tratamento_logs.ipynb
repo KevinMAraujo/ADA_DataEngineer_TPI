{
 "cells": [
  {
   "cell_type": "markdown",
   "metadata": {},
   "source": [
    "# Projeto de Técnicas de Programação em Python - Transformação de Logs"
   ]
  },
  {
   "cell_type": "markdown",
   "metadata": {},
   "source": [
    "<div align=\"center\">\n",
    "<img style=\"display: block; margin:auto; width: 50%;\" src=\"assets/banco_log.png\">\n",
    "</div>"
   ]
  },
  {
   "cell_type": "markdown",
   "metadata": {},
   "source": [
    "O projeto tem como premissa trabalhar com logs de servidor web em formato comum Apache. Para isso, foi consultada uma base de dados no kaggle por meio deste [link](https://www.kaggle.com/datasets/eliasdabbas/web-server-access-logs/data). \n",
    "\n",
    "A ideia é extrair os dados de interesse dos logs, transforma-los pelo Numpy e Pandas para depois tirar alguns insights."
   ]
  },
  {
   "cell_type": "markdown",
   "metadata": {},
   "source": [
    "# Indice"
   ]
  },
  {
   "cell_type": "markdown",
   "metadata": {},
   "source": []
  },
  {
   "cell_type": "markdown",
   "metadata": {},
   "source": [
    "# 1. Bibliotecas"
   ]
  },
  {
   "cell_type": "markdown",
   "metadata": {},
   "source": [
    "# 2. Corte do arquivo"
   ]
  },
  {
   "cell_type": "markdown",
   "metadata": {},
   "source": [
    "Como o arquivo original access.log possui 3.8GB, foi preciso selecionar uma quantidade de linhas para trabalhar mais facilmente. Por isso, fizemos a abertura do arquivo, lemos 1000 linhas e salvamos outro log."
   ]
  },
  {
   "cell_type": "markdown",
   "metadata": {},
   "source": [
    "**OBS**: Essa operação foi feita apenas para facilitar o processo. O arquivo original se encontra no site deste [link](https://www.kaggle.com/datasets/eliasdabbas/web-server-access-logs/data)."
   ]
  },
  {
   "cell_type": "code",
   "execution_count": null,
   "metadata": {},
   "outputs": [],
   "source": [
    "# with open(\"./../projeto/logs/access.log\", \"r\") as file:\n",
    "#     linhas_lidas = file.readlines()[:1000]"
   ]
  },
  {
   "cell_type": "code",
   "execution_count": null,
   "metadata": {},
   "outputs": [],
   "source": [
    "# with open(\"logs/access.log\", \"w\") as file:\n",
    "#     file.writelines(linhas_lidas)"
   ]
  },
  {
   "cell_type": "markdown",
   "metadata": {},
   "source": [
    "# 3. Tranformação dos Logs"
   ]
  },
  {
   "cell_type": "markdown",
   "metadata": {},
   "source": [
    "## 3.1 Compreensão da estrutura do Log"
   ]
  },
  {
   "cell_type": "markdown",
   "metadata": {},
   "source": [
    "Primeiro, mostrarei como o log está estruturado."
   ]
  },
  {
   "cell_type": "code",
   "execution_count": 19,
   "metadata": {},
   "outputs": [
    {
     "name": "stdout",
     "output_type": "stream",
     "text": [
      "54.36.149.41 - - [22/Jan/2019:03:56:14 +0330] \"GET /filter/27|13%20%D9%85%DA%AF%D8%A7%D9%BE%DB%8C%DA%A9%D8%B3%D9%84,27|%DA%A9%D9%85%D8%AA%D8%B1%20%D8%A7%D8%B2%205%20%D9%85%DA%AF%D8%A7%D9%BE%DB%8C%DA%A9%D8%B3%D9%84,p53 HTTP/1.1\" 200 30577 \"-\" \"Mozilla/5.0 (compatible; AhrefsBot/6.1; +http://ahrefs.com/robot/)\" \"-\"\n",
      "\n"
     ]
    }
   ],
   "source": [
    "with open(\"logs/access.log\", \"r\") as file:\n",
    "    teste = file.readline()\n",
    "    print(teste)"
   ]
  },
  {
   "cell_type": "markdown",
   "metadata": {},
   "source": [
    "Em resumo, essas são as informações de interesse no geral:\n",
    "\n",
    "- IP do Cliente: Endereço IP do cliente solicitante\n",
    "- Data/Hora: Data, Hora e UTC da solicitação \n",
    "- Método HTTP: Qual método foi utilizado (GET, POST...)\n",
    "- Pasta/Arquivo : Pasta e arquivo que foi acessado, ou se foi feito um Search\n",
    "- Protocolo HTTP : Qual protocolo HTTP foi utilizado\n",
    "- Código de Resposta: Indicação se a solicitação foi bem-sucedida ou não\n",
    "- Tamanho da Resposta: Quantos bytes foram usados para aquisição da resposta\n",
    "- User-Agent: Informações do navegador ou bot"
   ]
  },
  {
   "cell_type": "markdown",
   "metadata": {},
   "source": [
    "## 3.2. Transformação dos logs"
   ]
  },
  {
   "cell_type": "code",
   "execution_count": 97,
   "metadata": {},
   "outputs": [],
   "source": [
    "with open(\"logs/access.log\", \"r\") as file:\n",
    "    data = file.readlines()"
   ]
  },
  {
   "cell_type": "code",
   "execution_count": 102,
   "metadata": {},
   "outputs": [],
   "source": [
    "documento = []\n",
    "\n",
    "for linha in data:\n",
    "\n",
    "    for e in [\"[\", \"]\", \"(\", \")\", \"{\", \"}\", \";\", '\"', \",\"]:\n",
    "        linha = linha.replace(e,\"\")\n",
    "\n",
    "    i = linha.split(\" \")\n",
    "    \n",
    "    ip = i[0]\n",
    "    data_hora = f\"{i[3]} {i[4]}\"\n",
    "    metodo = i[5]\n",
    "\n",
    "    pasta = i[6].split(\"/\")[1]\n",
    "    if \"?\" in pasta:\n",
    "        pasta = pasta.split(\"?\")[0]\n",
    "\n",
    "    http = i[7]\n",
    "    resposta = i[8]\n",
    "    tamanho_bytes = i[9]\n",
    "\n",
    "    if len(i) > 14:\n",
    "        if i[12] == \"compatible\":\n",
    "            user_agent = i[13]\n",
    "        else:\n",
    "            user_agent = f\"{i[12]}-{i[13]}/{i[14]}\"\n",
    "    else:\n",
    "        user_agent = {i[11]}\n",
    "\n",
    "\n",
    "    registro = [ip,data_hora,metodo,pasta,http,resposta,tamanho_bytes, user_agent]\n",
    "    documento.append(registro) "
   ]
  },
  {
   "cell_type": "markdown",
   "metadata": {},
   "source": [
    "Cada log ficará assim no fim desse processo:"
   ]
  },
  {
   "cell_type": "code",
   "execution_count": 104,
   "metadata": {},
   "outputs": [
    {
     "data": {
      "text/plain": [
       "['54.36.149.41',\n",
       " '22/Jan/2019:03:56:14 +0330',\n",
       " 'GET',\n",
       " 'filter',\n",
       " 'HTTP/1.1',\n",
       " '200',\n",
       " '30577',\n",
       " 'AhrefsBot/6.1']"
      ]
     },
     "execution_count": 104,
     "metadata": {},
     "output_type": "execute_result"
    }
   ],
   "source": [
    "documento[0]"
   ]
  },
  {
   "cell_type": "markdown",
   "metadata": {},
   "source": [
    "# 4. Conversão para Numpy"
   ]
  },
  {
   "cell_type": "markdown",
   "metadata": {},
   "source": [
    "# 5. Dataset com os Logs"
   ]
  }
 ],
 "metadata": {
  "kernelspec": {
   "display_name": ".venv",
   "language": "python",
   "name": "python3"
  },
  "language_info": {
   "codemirror_mode": {
    "name": "ipython",
    "version": 3
   },
   "file_extension": ".py",
   "mimetype": "text/x-python",
   "name": "python",
   "nbconvert_exporter": "python",
   "pygments_lexer": "ipython3",
   "version": "3.12.2"
  }
 },
 "nbformat": 4,
 "nbformat_minor": 2
}
